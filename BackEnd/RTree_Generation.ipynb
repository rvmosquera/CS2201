{
  "nbformat": 4,
  "nbformat_minor": 0,
  "metadata": {
    "colab": {
      "name": "RTree Generation",
      "provenance": [],
      "collapsed_sections": [],
      "toc_visible": true,
      "include_colab_link": true
    },
    "kernelspec": {
      "name": "python3",
      "display_name": "Python 3"
    },
    "accelerator": "GPU"
  },
  "cells": [
    {
      "cell_type": "markdown",
      "metadata": {
        "id": "view-in-github",
        "colab_type": "text"
      },
      "source": [
        "<a href=\"https://colab.research.google.com/github/rvmosquera/CS2201/blob/master/BackEnd/RTree_Generation.ipynb\" target=\"_parent\"><img src=\"https://colab.research.google.com/assets/colab-badge.svg\" alt=\"Open In Colab\"/></a>"
      ]
    },
    {
      "cell_type": "code",
      "metadata": {
        "colab": {
          "base_uri": "https://localhost:8080/"
        },
        "id": "1RKNLJ_9VvxL",
        "outputId": "3fb11347-2a53-4f68-bbe2-88dd7c9091a0"
      },
      "source": [
        "!apt install python3-rtree"
      ],
      "execution_count": null,
      "outputs": [
        {
          "output_type": "stream",
          "text": [
            "Reading package lists... Done\n",
            "Building dependency tree       \n",
            "Reading state information... Done\n",
            "The following additional packages will be installed:\n",
            "  libspatialindex-c4v5 libspatialindex-dev libspatialindex4v5\n",
            "  python3-pkg-resources\n",
            "Suggested packages:\n",
            "  python3-setuptools\n",
            "The following NEW packages will be installed:\n",
            "  libspatialindex-c4v5 libspatialindex-dev libspatialindex4v5\n",
            "  python3-pkg-resources python3-rtree\n",
            "0 upgraded, 5 newly installed, 0 to remove and 14 not upgraded.\n",
            "Need to get 671 kB of archives.\n",
            "After this operation, 3,948 kB of additional disk space will be used.\n",
            "Get:1 http://archive.ubuntu.com/ubuntu bionic/universe amd64 libspatialindex4v5 amd64 1.8.5-5 [219 kB]\n",
            "Get:2 http://archive.ubuntu.com/ubuntu bionic/universe amd64 libspatialindex-c4v5 amd64 1.8.5-5 [51.7 kB]\n",
            "Get:3 http://archive.ubuntu.com/ubuntu bionic/main amd64 python3-pkg-resources all 39.0.1-2 [98.8 kB]\n",
            "Get:4 http://archive.ubuntu.com/ubuntu bionic/universe amd64 libspatialindex-dev amd64 1.8.5-5 [285 kB]\n",
            "Get:5 http://archive.ubuntu.com/ubuntu bionic/universe amd64 python3-rtree all 0.8.3+ds-1 [16.9 kB]\n",
            "Fetched 671 kB in 1s (533 kB/s)\n",
            "Selecting previously unselected package libspatialindex4v5:amd64.\n",
            "(Reading database ... 144865 files and directories currently installed.)\n",
            "Preparing to unpack .../libspatialindex4v5_1.8.5-5_amd64.deb ...\n",
            "Unpacking libspatialindex4v5:amd64 (1.8.5-5) ...\n",
            "Selecting previously unselected package libspatialindex-c4v5:amd64.\n",
            "Preparing to unpack .../libspatialindex-c4v5_1.8.5-5_amd64.deb ...\n",
            "Unpacking libspatialindex-c4v5:amd64 (1.8.5-5) ...\n",
            "Selecting previously unselected package python3-pkg-resources.\n",
            "Preparing to unpack .../python3-pkg-resources_39.0.1-2_all.deb ...\n",
            "Unpacking python3-pkg-resources (39.0.1-2) ...\n",
            "Selecting previously unselected package libspatialindex-dev:amd64.\n",
            "Preparing to unpack .../libspatialindex-dev_1.8.5-5_amd64.deb ...\n",
            "Unpacking libspatialindex-dev:amd64 (1.8.5-5) ...\n",
            "Selecting previously unselected package python3-rtree.\n",
            "Preparing to unpack .../python3-rtree_0.8.3+ds-1_all.deb ...\n",
            "Unpacking python3-rtree (0.8.3+ds-1) ...\n",
            "Setting up libspatialindex4v5:amd64 (1.8.5-5) ...\n",
            "Setting up python3-pkg-resources (39.0.1-2) ...\n",
            "Setting up libspatialindex-c4v5:amd64 (1.8.5-5) ...\n",
            "Setting up libspatialindex-dev:amd64 (1.8.5-5) ...\n",
            "Setting up python3-rtree (0.8.3+ds-1) ...\n",
            "Processing triggers for libc-bin (2.27-3ubuntu1.2) ...\n",
            "/sbin/ldconfig.real: /usr/local/lib/python3.6/dist-packages/ideep4py/lib/libmkldnn.so.0 is not a symbolic link\n",
            "\n"
          ],
          "name": "stdout"
        }
      ]
    },
    {
      "cell_type": "markdown",
      "metadata": {
        "id": "SkXIPpCrD8DV"
      },
      "source": [
        "# R-Tree file Generation\r\n",
        "Using the collection of images located in [link text](https://onedrive.live.com/?authkey=%21ANNEKv7tNdlSSQk&id=C2923DF9F1F816F%2150817&cid=0C2923DF9F1F816F) we extract the charegenerated the inverted index using the tf.idf score."
      ]
    },
    {
      "cell_type": "code",
      "metadata": {
        "colab": {
          "base_uri": "https://localhost:8080/"
        },
        "id": "nF9mjcSTC9BI",
        "outputId": "951c94b1-3f56-4c30-bea0-5c29efc27ef6"
      },
      "source": [
        "from google.colab import drive\n",
        "drive.mount('/content/drive')"
      ],
      "execution_count": null,
      "outputs": [
        {
          "output_type": "stream",
          "text": [
            "Mounted at /content/drive\n"
          ],
          "name": "stdout"
        }
      ]
    },
    {
      "cell_type": "markdown",
      "metadata": {
        "id": "IjuCAP6ANdK0"
      },
      "source": [
        "##Image extraction\r\n",
        "Extract the images from the zip File"
      ]
    },
    {
      "cell_type": "code",
      "metadata": {
        "id": "QBGoiZtyJKYt"
      },
      "source": [
        "import zipfile\n",
        "\n",
        "zip_ref = zipfile.ZipFile(\"/content/drive/My Drive/DB2/Project3/Data/Collection.zip\", 'r')\n",
        "zip_ref.extractall(\"/tmp\")\n",
        "zip_ref.close()"
      ],
      "execution_count": null,
      "outputs": []
    },
    {
      "cell_type": "code",
      "metadata": {
        "colab": {
          "base_uri": "https://localhost:8080/"
        },
        "id": "CI7MDipVBqYa",
        "outputId": "23110d69-fe42-4971-e9d7-b070c61dd6d5"
      },
      "source": [
        "!pip install dlib"
      ],
      "execution_count": null,
      "outputs": [
        {
          "output_type": "stream",
          "text": [
            "Requirement already satisfied: dlib in /usr/local/lib/python3.6/dist-packages (19.18.0)\n"
          ],
          "name": "stdout"
        }
      ]
    },
    {
      "cell_type": "code",
      "metadata": {
        "colab": {
          "base_uri": "https://localhost:8080/"
        },
        "id": "H1HxR8WS-oZI",
        "outputId": "1c9e61a2-24ac-4de3-bb39-65d374778d55"
      },
      "source": [
        "!pip install face_recognition"
      ],
      "execution_count": null,
      "outputs": [
        {
          "output_type": "stream",
          "text": [
            "Collecting face_recognition\n",
            "  Downloading https://files.pythonhosted.org/packages/1e/95/f6c9330f54ab07bfa032bf3715c12455a381083125d8880c43cbe76bb3d0/face_recognition-1.3.0-py2.py3-none-any.whl\n",
            "Requirement already satisfied: Pillow in /usr/local/lib/python3.6/dist-packages (from face_recognition) (7.0.0)\n",
            "Collecting face-recognition-models>=0.3.0\n",
            "\u001b[?25l  Downloading https://files.pythonhosted.org/packages/cf/3b/4fd8c534f6c0d1b80ce0973d01331525538045084c73c153ee6df20224cf/face_recognition_models-0.3.0.tar.gz (100.1MB)\n",
            "\u001b[K     |████████████████████████████████| 100.2MB 121kB/s \n",
            "\u001b[?25hRequirement already satisfied: numpy in /usr/local/lib/python3.6/dist-packages (from face_recognition) (1.19.4)\n",
            "Requirement already satisfied: dlib>=19.7 in /usr/local/lib/python3.6/dist-packages (from face_recognition) (19.18.0)\n",
            "Requirement already satisfied: Click>=6.0 in /usr/local/lib/python3.6/dist-packages (from face_recognition) (7.1.2)\n",
            "Building wheels for collected packages: face-recognition-models\n",
            "  Building wheel for face-recognition-models (setup.py) ... \u001b[?25l\u001b[?25hdone\n",
            "  Created wheel for face-recognition-models: filename=face_recognition_models-0.3.0-py2.py3-none-any.whl size=100566173 sha256=3b6c3f43af2c13f4165d709ce66de0dfef694ead94f7059dc17078aa960eabca\n",
            "  Stored in directory: /root/.cache/pip/wheels/d2/99/18/59c6c8f01e39810415c0e63f5bede7d83dfb0ffc039865465f\n",
            "Successfully built face-recognition-models\n",
            "Installing collected packages: face-recognition-models, face-recognition\n",
            "Successfully installed face-recognition-1.3.0 face-recognition-models-0.3.0\n"
          ],
          "name": "stdout"
        }
      ]
    },
    {
      "cell_type": "code",
      "metadata": {
        "id": "v3GDMFNDNWHU"
      },
      "source": [
        "def process_collection(rtree_name, n_images):\n",
        "  from rtree import index\n",
        "  import face_recognition\n",
        "  import os\n",
        "\n",
        "  #Traverse collection\n",
        "  path = \"/tmp/lfw\"\n",
        "  dir_list = os.listdir(path)\n",
        "\n",
        "  p = index.Property()\n",
        "  p.dimension = 128 #D\n",
        "  p.buffering_capacity = 10 #M\n",
        "  #p.dat_extension = 'data'\n",
        "  #p.idx_extension = 'index'\n",
        "  rtree_idx = index.Index(rtree_name, properties = p) #r-tree filename\n",
        "\n",
        "  index=0\n",
        "  break_fg = False\n",
        "  images_list = []\n",
        "  for file_path in dir_list:\n",
        "    path_tmp = path + \"/\" + file_path\n",
        "\n",
        "    img_list = os.listdir(path_tmp)\n",
        "    \n",
        "    for file_name in img_list: \n",
        "      path_tmp2 = path_tmp + \"/\" + file_name\n",
        "#      print(\"Processing: \", path_tmp2)\n",
        "      img = face_recognition.load_image_file(path_tmp2)\n",
        "\n",
        "#     Get face encodings for any faces in the uploaded image\n",
        "      unknown_face_encodings = face_recognition.face_encodings(img)\n",
        "\n",
        "      for elem in unknown_face_encodings:\n",
        "\n",
        "        if index == n_images: #Process n_images \n",
        "          break_fg = True\n",
        "          break\n",
        "\n",
        "        coor_tmp = list(elem)\n",
        "        for coor_i in elem:\n",
        "          coor_tmp.append(coor_i)\n",
        "        tmp_obj = {\"path\": path_tmp, \"name\": file_name};\n",
        "        rtree_idx.insert(index, coor_tmp, tmp_obj)\n",
        "        images_list.append((index, path_tmp2))\n",
        "        index = index + 1\n",
        "        \n",
        "      if break_fg:\n",
        "        break\n",
        "\n",
        "    if break_fg:\n",
        "      break    \n",
        "  rtree_idx.close()\n",
        "\n",
        "  print(str(index) + \" images processed\")\n",
        "  return rtree_idx\n"
      ],
      "execution_count": null,
      "outputs": []
    },
    {
      "cell_type": "code",
      "metadata": {
        "id": "EswYe52NOGaI",
        "colab": {
          "base_uri": "https://localhost:8080/"
        },
        "outputId": "cbffa670-8068-42f4-c1f1-3178091307f8"
      },
      "source": [
        "#path = \"/content/drive/My Drive/DB2/Project3/\"\r\n",
        "imagen_n = 1600\r\n",
        "path = \"/tmp/\"\r\n",
        "rtree_name = path + 'rtreeFile' + str(imagen_n)\r\n",
        "\r\n",
        "process_collection(rtree_name, imagen_n)"
      ],
      "execution_count": null,
      "outputs": [
        {
          "output_type": "stream",
          "text": [
            "1600 images processed\n"
          ],
          "name": "stdout"
        },
        {
          "output_type": "execute_result",
          "data": {
            "text/plain": [
              "<rtree.index.Index at 0x7f6411d515c0>"
            ]
          },
          "metadata": {
            "tags": []
          },
          "execution_count": 18
        }
      ]
    },
    {
      "cell_type": "code",
      "metadata": {
        "colab": {
          "base_uri": "https://localhost:8080/"
        },
        "id": "dY0rF6ae0fY8",
        "outputId": "446c38f1-104b-4f20-b1f9-f9c2a5005af4"
      },
      "source": [
        "imagen_n = 3200\r\n",
        "path = \"/tmp/\"\r\n",
        "rtree_name = path + 'rtreeFile' + str(imagen_n)\r\n",
        "\r\n",
        "process_collection(rtree_name, imagen_n)"
      ],
      "execution_count": null,
      "outputs": [
        {
          "output_type": "stream",
          "text": [
            "3200 images processed\n"
          ],
          "name": "stdout"
        },
        {
          "output_type": "execute_result",
          "data": {
            "text/plain": [
              "<rtree.index.Index at 0x7f6411d51828>"
            ]
          },
          "metadata": {
            "tags": []
          },
          "execution_count": 19
        }
      ]
    },
    {
      "cell_type": "code",
      "metadata": {
        "colab": {
          "base_uri": "https://localhost:8080/"
        },
        "id": "GKT4i3tw0ka2",
        "outputId": "f45a077f-1fa7-4a75-8541-6d9635aeefce"
      },
      "source": [
        "imagen_n = 6400\r\n",
        "path = \"/tmp/\"\r\n",
        "rtree_name = path + 'rtreeFile' + str(imagen_n)\r\n",
        "\r\n",
        "process_collection(rtree_name, imagen_n)"
      ],
      "execution_count": null,
      "outputs": [
        {
          "output_type": "stream",
          "text": [
            "6400 images processed\n"
          ],
          "name": "stdout"
        },
        {
          "output_type": "execute_result",
          "data": {
            "text/plain": [
              "<rtree.index.Index at 0x7f6411d51c88>"
            ]
          },
          "metadata": {
            "tags": []
          },
          "execution_count": 20
        }
      ]
    },
    {
      "cell_type": "code",
      "metadata": {
        "colab": {
          "base_uri": "https://localhost:8080/"
        },
        "id": "MLDZi0ky0lfb",
        "outputId": "056d8e13-2458-4df0-f794-eee98b4655ac"
      },
      "source": [
        "imagen_n = 12800\r\n",
        "path = \"/tmp/\"\r\n",
        "rtree_name = path + 'rtreeFile' + str(imagen_n)\r\n",
        "\r\n",
        "process_collection(rtree_name, imagen_n)"
      ],
      "execution_count": null,
      "outputs": [
        {
          "output_type": "stream",
          "text": [
            "12800 images processed\n"
          ],
          "name": "stdout"
        },
        {
          "output_type": "execute_result",
          "data": {
            "text/plain": [
              "<rtree.index.Index at 0x7f6411d51f98>"
            ]
          },
          "metadata": {
            "tags": []
          },
          "execution_count": 21
        }
      ]
    },
    {
      "cell_type": "code",
      "metadata": {
        "colab": {
          "base_uri": "https://localhost:8080/"
        },
        "id": "B15xEKHg9Mdw",
        "outputId": "4de686c5-399e-4101-f569-50535b20d583"
      },
      "source": [
        "#Ejemplo de Heider\r\n",
        "from rtree import index\r\n",
        "\r\n",
        "p = index.Property()\r\n",
        "p.dimension = 2 #D\r\n",
        "#p.buffering_capacity = 4096 #M\r\n",
        "idx = index.Index('/tmp/2d_index',properties=p)\r\n",
        "\r\n",
        "#insertar puntos\r\n",
        "idx.insert(0, (1,1,1,1), obj=42)\r\n",
        "idx.insert(1, (1,2,1,2), obj=43)\r\n",
        "idx.insert(2, (3,1,3,1), obj=44)\r\n",
        "idx.insert(3, (1,3,1,3), obj=45)\r\n",
        "idx.insert(4, (2,3,2,3), obj=46)\r\n",
        "\r\n",
        "#retornar elementos de la interseccion con el rectangulo \r\n",
        "q = (2, 0, 4, 3)\r\n",
        "lres = [n for n in idx.intersection(q)] \r\n",
        "print(\"Elementos en (2, 0) - (4, 3): \", lres)\r\n",
        "\r\n",
        "#retornar los k=1 vecinos de (3,3)\r\n",
        "q = (3, 3, 3, 3)\r\n",
        "lres = list(idx.nearest(coordinates=q, num_results=1))\r\n",
        "print(\"El vecino mas cercano de (3,3): \", lres)\r\n",
        "\r\n",
        "#retornar los k=2 vecinos de (3,3)\r\n",
        "lres = list(idx.nearest(coordinates=q, num_results=2))\r\n",
        "print(\"Los dos vecinos mas cercano de (3,3): \", lres)\r\n",
        "idx.close() #Faltaba esto >:V"
      ],
      "execution_count": null,
      "outputs": [
        {
          "output_type": "stream",
          "text": [
            "Elementos en (2, 0) - (4, 3):  [2, 4, 2, 4]\n",
            "El vecino mas cercano de (3,3):  [4, 4]\n",
            "Los dos vecinos mas cercano de (3,3):  [4, 4]\n"
          ],
          "name": "stdout"
        }
      ]
    },
    {
      "cell_type": "code",
      "metadata": {
        "id": "eOFDrsPzAvVy"
      },
      "source": [
        "import face_recognition\n",
        "import numpy as np\n",
        "import os\n",
        "from rtree import index\n",
        "\n",
        "#picture_of_vizcarra = face_recognition.load_image_file(\"fotos_bd/vizcarra.png\")\n",
        "\n",
        "path = '/content/drive/My Drive/DB2/Project3/Data/Test_1'\n",
        "pics_list = os.listdir(path)\n",
        "\n",
        "print(\"There are \", len(pics_list), \" pictures to process\")\n",
        "\n",
        "p = index.Property()\n",
        "p.dimension = 128 #D\n",
        "p.buffering_capacity = 3 #M\n",
        "p.dat_extension = 'data'\n",
        "p.idx_extension = 'index'\n",
        "file_idx = index.Index('/tmp/rtree', properties = p)\n",
        "\n",
        "index=0\n",
        "for file_name in pics_list:\n",
        "  print(\"Processing: \", file_name)\n",
        "  img_fname = path + '/' + file_name\n",
        "  img = face_recognition.load_image_file(img_fname)\n",
        "# Get face encodings for any faces in the uploaded image\n",
        "  unknown_face_encodings = face_recognition.face_encodings(img)\n",
        "\n",
        "  for elem in unknown_face_encodings:\n",
        "\n",
        "    coor_tmp = list(elem)\n",
        "    print(\"before \", len(coor_tmp))\n",
        "    for coor_i in elem:\n",
        "      coor_tmp.append(coor_i)\n",
        "    #print(len(coor_tmp))\n",
        "    file_idx.insert(index, coor_tmp)\n",
        "    index = index + 1"
      ],
      "execution_count": null,
      "outputs": []
    },
    {
      "cell_type": "code",
      "metadata": {
        "id": "S9pELyW5MhiJ",
        "colab": {
          "base_uri": "https://localhost:8080/"
        },
        "outputId": "84f34178-52b1-4ff9-f4ec-9ccf6e606477"
      },
      "source": [
        "import face_recognition as fr\n",
        "import numpy as np\n",
        "import os\n",
        "import heapq \n",
        "from timeit import default_timer as timer\n",
        "#from queue import PriorityQueue\n",
        "\n",
        "path = '/content/drive/My Drive/DB2/Project3/Data/Test_1'\n",
        "pics_list = os.listdir(path)\n",
        "\n",
        "def encode(name):\n",
        "  img = fr.load_image_file(path + '/' + name)\n",
        "  return fr.face_encodings(img)[0]\n",
        "\n",
        "\n",
        "\n",
        "def KNN_Seq(k,to_search):  \n",
        "  result = PriorityQueue()\n",
        "  \n",
        "  \n",
        "  query = encode(to_search)\n",
        "\n",
        "  cantidad = 0\n",
        "  conocidas = []\n",
        "  names_in_order = []\n",
        "  #Se recorren todas las imagenes\n",
        "  for file_name in pics_list:\n",
        "    cantidad = cantidad +1\n",
        "    print(\"Processing: \", file_name)\n",
        "    img_fname = path + '/' + file_name\n",
        "    img = fr.load_image_file(img_fname)\n",
        "    aux = fr.face_encodings(img)[0]\n",
        "    names_in_order.append(file_name)\n",
        "   #se agrega el vector caracteristico de la imagen a un dataset de vectore caracteristicos\n",
        "    conocidas.append(aux)\n",
        "\n",
        "  distances = fr.face_distance(conocidas,query)\n",
        "  res = [] \n",
        "  for i in range(cantidad):\n",
        "    res.append((distances[i],names_in_order[i]))\n",
        "  \n",
        "  heapq.heapify(res) \n",
        "\n",
        "  return heapq.nsmallest(k, res)\n",
        "\n",
        "\n",
        "\n",
        " \n",
        "start = timer()\n",
        "print(KNN_Seq(100,\"foto1.jpg\"))\n",
        "end = timer()\n",
        "print(end - start,\" seconds\")  "
      ],
      "execution_count": null,
      "outputs": [
        {
          "output_type": "stream",
          "text": [
            "Processing:  foto1.jpg\n",
            "Processing:  foto2.jpg\n",
            "Processing:  foto3.jpg\n",
            "Processing:  foto4.jpg\n",
            "[(0.0, 'foto1.jpg'), (0.3565082433220163, 'foto4.jpg'), (0.8018813371423902, 'foto2.jpg'), (0.9017904738095106, 'foto3.jpg')]\n",
            "2.0588475909999033  seconds\n"
          ],
          "name": "stdout"
        }
      ]
    },
    {
      "cell_type": "code",
      "metadata": {
        "id": "01wsh0eolVo4",
        "colab": {
          "base_uri": "https://localhost:8080/"
        },
        "outputId": "9e0414cc-ad7b-41cc-da76-e925211dff3d"
      },
      "source": [
        "import face_recognition as fr\n",
        "import numpy as np\n",
        "import os\n",
        "import heapq \n",
        "from timeit import default_timer as timer\n",
        "#from queue import PriorityQueue\n",
        "\n",
        "path = '/content/drive/My Drive/DB2/Project3/Data/Test_1'\n",
        "pics_list = os.listdir(path)\n",
        "\n",
        "def encode(name):\n",
        "  img = fr.load_image_file(path + '/' + name)\n",
        "  return fr.face_encodings(img)[0]\n",
        "\n",
        "\n",
        "\n",
        "def search_r(r,to_search):  \n",
        "  query = encode(to_search)\n",
        "  cantidad = 0\n",
        "  conocidas = []\n",
        "  names_in_order = []\n",
        "  for file_name in pics_list:\n",
        "    cantidad = cantidad +1\n",
        "    print(\"Processing: \", file_name)\n",
        "    img_fname = path + '/' + file_name\n",
        "    img = fr.load_image_file(img_fname)\n",
        "    aux = fr.face_encodings(img)[0]\n",
        "    names_in_order.append(file_name)\n",
        "    conocidas.append(aux)\n",
        "\n",
        "  distances = fr.face_distance(conocidas,query)\n",
        "  \n",
        "  res = []\n",
        "  for i in range(cantidad):\n",
        "    if distances[i]<=r:\n",
        "      res.append((distances[i],names_in_order[i]))\n",
        "\n",
        "  return res\n",
        "\n",
        "name_img = \"foto1.jpg\"\n",
        "print(search_r(0.5,name_img))\n",
        "\n"
      ],
      "execution_count": null,
      "outputs": [
        {
          "output_type": "stream",
          "text": [
            "Processing:  foto1.jpg\n",
            "Processing:  foto3.jpg\n",
            "Processing:  foto4.jpg\n",
            "Processing:  foto2.jpg\n",
            "[(0.0, 'foto1.jpg'), (0.3565082433220163, 'foto4.jpg')]\n"
          ],
          "name": "stdout"
        }
      ]
    },
    {
      "cell_type": "code",
      "metadata": {
        "colab": {
          "base_uri": "https://localhost:8080/"
        },
        "id": "FWMlAJMEKjVo",
        "outputId": "d995ad4c-ec6d-4623-e3a3-51493ea7935a"
      },
      "source": [
        "# Version 2.0 de pruebas\n",
        "import face_recognition as fr\n",
        "import numpy as np\n",
        "import os\n",
        "import heapq \n",
        "from timeit import default_timer as timer\n",
        "\n",
        "path = '/content/drive/My Drive/DB2/Project3/Data/Test_1'\n",
        "pics_list = os.listdir(path)\n",
        "start = 0 \n",
        "\n",
        "def encode(name):\n",
        "  img = fr.load_image_file(path + '/' + name)\n",
        "  return fr.face_encodings(img)[0]\n",
        "\n",
        "\n",
        "\n",
        "def KNN_Seq(k,to_search,n):  \n",
        "  global start\n",
        "  query = encode(to_search)\n",
        "\n",
        "  \n",
        "  path = \"/tmp/lfw\"\n",
        "  dir_list = os.listdir(path)\n",
        "\n",
        "\n",
        "  cantidad = 0\n",
        "  conocidas = []\n",
        "  names_in_order = []\n",
        "  break_fg = False\n",
        "  c = 0  \n",
        "  for file_path in dir_list:\n",
        "    path_tmp = path + \"/\" + file_path\n",
        "\n",
        "    img_list = os.listdir(path_tmp)\n",
        "    \n",
        "    for file_name in img_list: \n",
        "      path_tmp2 = path_tmp + \"/\" + file_name\n",
        "      #print(\"Processing: \", path_tmp2)\n",
        "      img = fr.load_image_file(path_tmp2)\n",
        "\n",
        "      #Get face encodings for any faces in the uploaded image\n",
        "      unknown_face_encodings = fr.face_encodings(img)\n",
        "\n",
        "      for elem in unknown_face_encodings:\n",
        "\n",
        "        if c == n: #Process n_images \n",
        "          break_fg = True\n",
        "          break\n",
        "\n",
        "        #coor_tmp = list(elem)\n",
        "        #for coor_i in elem:\n",
        "        #  names_in_order.append(file_name)\n",
        "        #  conocidas.append(coor_i)\n",
        "        names_in_order.append(file_name)\n",
        "        conocidas.append(elem)        \n",
        "        c = c + 1\n",
        "        \n",
        "      if break_fg:\n",
        "        break\n",
        "\n",
        "    if break_fg:\n",
        "      break    \n",
        "\n",
        "  print(str(c) + \" faces processed\")\n",
        "\n",
        "  start = timer() \n",
        "  distances = fr.face_distance(conocidas,query)\n",
        "  res = [] \n",
        "  for i in range(cantidad):\n",
        "    res.append((distances[i],names_in_order[i]))\n",
        "  \n",
        "  heapq.heapify(res)   \n",
        "  return heapq.nsmallest(k, res)\n",
        "\n",
        "\n",
        "print(KNN_Seq(8,\"foto1.jpg\",100))\n",
        "end = timer()\n",
        "print(end - start,\" seconds\")"
      ],
      "execution_count": null,
      "outputs": [
        {
          "output_type": "stream",
          "text": [
            "100 faces processed\n",
            "[]\n",
            "0.0005952600004093256  seconds\n"
          ],
          "name": "stdout"
        }
      ]
    },
    {
      "cell_type": "markdown",
      "metadata": {
        "id": "qCJgA0DujJJw"
      },
      "source": [
        "R-tree Test"
      ]
    },
    {
      "cell_type": "code",
      "metadata": {
        "id": "lweKsKbljIoV",
        "colab": {
          "base_uri": "https://localhost:8080/"
        },
        "outputId": "d4081dcf-997c-46d1-faea-5ff2163c9514"
      },
      "source": [
        "from rtree import index\r\n",
        "import face_recognition as fr\r\n",
        "from timeit import default_timer as timer\r\n",
        "#Version for Web\r\n",
        "def encode_for_r(name):\r\n",
        "  path = '/content/drive/My Drive/DB2/Project3/Data/Test_1'\r\n",
        "\r\n",
        "  img = fr.load_image_file(path + '/' + name)\r\n",
        "  return fr.face_encodings(img)[0]\r\n",
        "\r\n",
        "start = 0 \r\n",
        "def KNN_rtree(k, to_search, n):\r\n",
        "  global start\r\n",
        "# R-Tree Lecture from secondary memory\r\n",
        "  path = \"/tmp/\"\r\n",
        "  rtree_name = path + 'rtreeFile' + str(n)\r\n",
        "\r\n",
        "  #rtree_name = path + 'rtree_' + str(n)\r\n",
        "  #rtree_idx = process_collection(rtree_name, n)\r\n",
        "  #print(\"R-tree generated\")\r\n",
        "# From image\r\n",
        "  query = encode_for_r(to_search)\r\n",
        "\r\n",
        "  p = index.Property()\r\n",
        "  p.dimension = 128 #D\r\n",
        "  p.buffering_capacity = 10 #M\r\n",
        "  #p.dat_extension = 'data'\r\n",
        "  #p.idx_extension = 'index'\r\n",
        "  #idx = index.Index(rtree_name, properties=p)\r\n",
        "  #rtreeidx = index.Rtree(rtree_name, properties=p)\r\n",
        "  rtreeidx = index.Rtree(rtree_name, properties=p)  \r\n",
        "  query_list = list(query)\r\n",
        "  for query_i in query:\r\n",
        "    query_list.append(query_i)\r\n",
        "\r\n",
        "  start = timer() \r\n",
        "  return rtreeidx.nearest(coordinates=query_list, num_results=k, objects='raw')\r\n",
        "\r\n",
        "result = KNN_rtree(8, \"foto1.jpg\", 12800)\r\n",
        "end = timer()\r\n",
        "print(list(result))\r\n",
        "print(\"Testing full RTree\")\r\n",
        "print(end - start,\" seconds\")\r\n"
      ],
      "execution_count": null,
      "outputs": [
        {
          "output_type": "stream",
          "text": [
            "[{'path': '/tmp/lfw/Tung_Chee-hwa', 'name': 'Tung_Chee-hwa_0001.jpg'}, {'path': '/tmp/lfw/Hernan_Diaz', 'name': 'Hernan_Diaz_0001.jpg'}, {'path': '/tmp/lfw/Kim_Su_Nam', 'name': 'Kim_Su_Nam_0001.jpg'}, {'path': '/tmp/lfw/Alejandro_Toledo', 'name': 'Alejandro_Toledo_0032.jpg'}, {'path': '/tmp/lfw/Jackie_Chan', 'name': 'Jackie_Chan_0004.jpg'}, {'path': '/tmp/lfw/John_Dallager', 'name': 'John_Dallager_0001.jpg'}, {'path': '/tmp/lfw/Junichiro_Koizumi', 'name': 'Junichiro_Koizumi_0020.jpg'}, {'path': '/tmp/lfw/Alejandro_Toledo', 'name': 'Alejandro_Toledo_0021.jpg'}]\n",
            "Testing full RTree\n",
            "0.049661163999644486  seconds\n"
          ],
          "name": "stdout"
        }
      ]
    },
    {
      "cell_type": "code",
      "metadata": {
        "id": "8nhMApFdltXy"
      },
      "source": [
        "#print(KNN_rtree(8, \"foto1.jpg\", 100))\r\n",
        "#end = timer()\r\n",
        "#print(end - start,\" seconds\")"
      ],
      "execution_count": null,
      "outputs": []
    },
    {
      "cell_type": "code",
      "metadata": {
        "id": "DtXvVElQlLyq"
      },
      "source": [
        "import face_recognition as fr\n",
        "import numpy as np\n",
        "import heapq \n",
        "#VERSION para WEB\n",
        "def KNN_Seq(k,to_search,n):  \n",
        "  global start\n",
        "  #query = encode(to_search)\n",
        "  path = '/content/drive/My Drive/DB2/Project3/Data/Test_1'\n",
        "\n",
        "  \n",
        "  img = fr.load_image_file(path + '/' + to_search)\n",
        "  query =  fr.face_encodings(img)[0]\n",
        "  \n",
        "\n",
        "  path = \"/tmp/lfw\"\n",
        "  dir_list = os.listdir(path)\n",
        "\n",
        "\n",
        "  cantidad = 0\n",
        "  conocidas = []\n",
        "  names_in_order = []\n",
        "  break_fg = False\n",
        "  c = 0  \n",
        "  for file_path in dir_list:\n",
        "    path_tmp = path + \"/\" + file_path\n",
        "\n",
        "    img_list = os.listdir(path_tmp)\n",
        "    \n",
        "    for file_name in img_list: \n",
        "      path_tmp2 = path_tmp + \"/\" + file_name\n",
        "      #print(\"Processing: \", path_tmp2)\n",
        "      img = fr.load_image_file(path_tmp2)\n",
        "\n",
        "      #Get face encodings for any faces in the uploaded image\n",
        "      unknown_face_encodings = fr.face_encodings(img)\n",
        "\n",
        "      for elem in unknown_face_encodings:\n",
        "\n",
        "        if c == n: #Process n_images \n",
        "          break_fg = True\n",
        "          break\n",
        "\n",
        "        #coor_tmp = list(elem)\n",
        "        #for coor_i in elem:\n",
        "        #  names_in_order.append(file_name)\n",
        "        #  conocidas.append(coor_i)\n",
        "        names_in_order.append(file_name)\n",
        "        conocidas.append(elem)        \n",
        "        c = c + 1\n",
        "        \n",
        "      if break_fg:\n",
        "        break\n",
        "\n",
        "    if break_fg:\n",
        "      break    \n",
        "\n",
        "  print(str(c) + \" faces processed\")\n",
        "\n",
        "  distances = fr.face_distance(conocidas,query)\n",
        "  res = [] \n",
        "  for i in range(cantidad):\n",
        "    res.append((distances[i],names_in_order[i]))\n",
        "  \n",
        "  heapq.heapify(res)   \n",
        "  return heapq.nsmallest(k, res)"
      ],
      "execution_count": null,
      "outputs": []
    }
  ]
}