{
  "cells": [
    {
      "cell_type": "markdown",
      "metadata": {
        "id": "view-in-github",
        "colab_type": "text"
      },
      "source": [
        "<a href=\"https://colab.research.google.com/github/rvmosquera/CS2201/blob/master/Colab_SentimentAnalysis.ipynb\" target=\"_parent\"><img src=\"https://colab.research.google.com/assets/colab-badge.svg\" alt=\"Open In Colab\"/></a>"
      ]
    },
    {
      "cell_type": "markdown",
      "source": [
        "# Predicting the Effects of News Sentiments on the Stock Market\n",
        "\n",
        "## Integrantes\n",
        "- Nicho Galagarza, Jorge Ernesto \n",
        "- Mosquera Pumaricra, Raúl Vides \n",
        "- Vásquez Auqui, Fabrizio Jesús "
      ],
      "metadata": {
        "id": "V1MwG8gV7YhF"
      },
      "id": "V1MwG8gV7YhF"
    },
    {
      "cell_type": "code",
      "execution_count": null,
      "id": "52288804",
      "metadata": {
        "id": "52288804"
      },
      "outputs": [],
      "source": [
        "# Data imports\n",
        "import re\n",
        "import numpy as np\n",
        "import pandas as pd\n",
        "import matplotlib.pyplot as plt\n",
        "\n",
        "# # ML imports\n",
        "from sklearn.model_selection import train_test_split\n",
        "from tensorflow.keras.models import Sequential, load_model\n",
        "from tensorflow.keras.layers import Dense, Dropout, LSTM, GRU, Embedding\n",
        "from tensorflow.keras.preprocessing.text import Tokenizer\n",
        "from tensorflow.keras.preprocessing.sequence import pad_sequences"
      ]
    },
    {
      "cell_type": "code",
      "source": [
        "#Link with Google Drive\n",
        "URL = '/content/drive/'\n",
        "from google.colab import drive\n",
        "drive.mount(URL)"
      ],
      "metadata": {
        "colab": {
          "base_uri": "https://localhost:8080/"
        },
        "id": "mvU0lkGhcYN2",
        "outputId": "ec937c69-e318-406f-9aad-0c61e1f4a25a"
      },
      "id": "mvU0lkGhcYN2",
      "execution_count": null,
      "outputs": [
        {
          "output_type": "stream",
          "name": "stdout",
          "text": [
            "Mounted at /content/drive/\n"
          ]
        }
      ]
    },
    {
      "cell_type": "code",
      "source": [
        "path = URL + \"My Drive/TesisProject/\" #Depende de quien lo ejecuta: My Drive/02_Thesis/TesisProject/"
      ],
      "metadata": {
        "id": "4JTRhruJeD6s"
      },
      "id": "4JTRhruJeD6s",
      "execution_count": null,
      "outputs": []
    },
    {
      "cell_type": "code",
      "execution_count": null,
      "id": "88b459ff",
      "metadata": {
        "colab": {
          "base_uri": "https://localhost:8080/",
          "height": 380
        },
        "id": "88b459ff",
        "outputId": "f73cf81f-4acd-4a61-c97d-d27d019e83d7"
      },
      "outputs": [
        {
          "output_type": "stream",
          "name": "stdout",
          "text": [
            "(5791, 2)\n"
          ]
        },
        {
          "output_type": "execute_result",
          "data": {
            "text/plain": [
              "                                                Text  Sentiment\n",
              "0                            mge buying long 268 269          1\n",
              "1  joe holding that 212150 area for now but longe...          1\n",
              "2  schwing bingo nkd can i please sell my feb 8 1...          1\n",
              "3                aa there goes the kids college fund          1\n",
              "4  chdn  ong   4902 trailing stop  5666 from 6 pr...          1\n",
              "5                                cat de in free fall         -1\n",
              "6  disneys new infinity game is going to be huge ...          1\n",
              "7  aap no buyers and no sellers less than 1m shar...          1\n",
              "8  ed weekly triangle on amsnet profit  2613500 3...         -1\n",
              "9  at least a quarter of the us economy has gone ...         -1"
            ],
            "text/html": [
              "\n",
              "  <div id=\"df-b2afbd60-e930-4f3c-ad1c-2f2ed54c3890\">\n",
              "    <div class=\"colab-df-container\">\n",
              "      <div>\n",
              "<style scoped>\n",
              "    .dataframe tbody tr th:only-of-type {\n",
              "        vertical-align: middle;\n",
              "    }\n",
              "\n",
              "    .dataframe tbody tr th {\n",
              "        vertical-align: top;\n",
              "    }\n",
              "\n",
              "    .dataframe thead th {\n",
              "        text-align: right;\n",
              "    }\n",
              "</style>\n",
              "<table border=\"1\" class=\"dataframe\">\n",
              "  <thead>\n",
              "    <tr style=\"text-align: right;\">\n",
              "      <th></th>\n",
              "      <th>Text</th>\n",
              "      <th>Sentiment</th>\n",
              "    </tr>\n",
              "  </thead>\n",
              "  <tbody>\n",
              "    <tr>\n",
              "      <th>0</th>\n",
              "      <td>mge buying long 268 269</td>\n",
              "      <td>1</td>\n",
              "    </tr>\n",
              "    <tr>\n",
              "      <th>1</th>\n",
              "      <td>joe holding that 212150 area for now but longe...</td>\n",
              "      <td>1</td>\n",
              "    </tr>\n",
              "    <tr>\n",
              "      <th>2</th>\n",
              "      <td>schwing bingo nkd can i please sell my feb 8 1...</td>\n",
              "      <td>1</td>\n",
              "    </tr>\n",
              "    <tr>\n",
              "      <th>3</th>\n",
              "      <td>aa there goes the kids college fund</td>\n",
              "      <td>1</td>\n",
              "    </tr>\n",
              "    <tr>\n",
              "      <th>4</th>\n",
              "      <td>chdn  ong   4902 trailing stop  5666 from 6 pr...</td>\n",
              "      <td>1</td>\n",
              "    </tr>\n",
              "    <tr>\n",
              "      <th>5</th>\n",
              "      <td>cat de in free fall</td>\n",
              "      <td>-1</td>\n",
              "    </tr>\n",
              "    <tr>\n",
              "      <th>6</th>\n",
              "      <td>disneys new infinity game is going to be huge ...</td>\n",
              "      <td>1</td>\n",
              "    </tr>\n",
              "    <tr>\n",
              "      <th>7</th>\n",
              "      <td>aap no buyers and no sellers less than 1m shar...</td>\n",
              "      <td>1</td>\n",
              "    </tr>\n",
              "    <tr>\n",
              "      <th>8</th>\n",
              "      <td>ed weekly triangle on amsnet profit  2613500 3...</td>\n",
              "      <td>-1</td>\n",
              "    </tr>\n",
              "    <tr>\n",
              "      <th>9</th>\n",
              "      <td>at least a quarter of the us economy has gone ...</td>\n",
              "      <td>-1</td>\n",
              "    </tr>\n",
              "  </tbody>\n",
              "</table>\n",
              "</div>\n",
              "      <button class=\"colab-df-convert\" onclick=\"convertToInteractive('df-b2afbd60-e930-4f3c-ad1c-2f2ed54c3890')\"\n",
              "              title=\"Convert this dataframe to an interactive table.\"\n",
              "              style=\"display:none;\">\n",
              "        \n",
              "  <svg xmlns=\"http://www.w3.org/2000/svg\" height=\"24px\"viewBox=\"0 0 24 24\"\n",
              "       width=\"24px\">\n",
              "    <path d=\"M0 0h24v24H0V0z\" fill=\"none\"/>\n",
              "    <path d=\"M18.56 5.44l.94 2.06.94-2.06 2.06-.94-2.06-.94-.94-2.06-.94 2.06-2.06.94zm-11 1L8.5 8.5l.94-2.06 2.06-.94-2.06-.94L8.5 2.5l-.94 2.06-2.06.94zm10 10l.94 2.06.94-2.06 2.06-.94-2.06-.94-.94-2.06-.94 2.06-2.06.94z\"/><path d=\"M17.41 7.96l-1.37-1.37c-.4-.4-.92-.59-1.43-.59-.52 0-1.04.2-1.43.59L10.3 9.45l-7.72 7.72c-.78.78-.78 2.05 0 2.83L4 21.41c.39.39.9.59 1.41.59.51 0 1.02-.2 1.41-.59l7.78-7.78 2.81-2.81c.8-.78.8-2.07 0-2.86zM5.41 20L4 18.59l7.72-7.72 1.47 1.35L5.41 20z\"/>\n",
              "  </svg>\n",
              "      </button>\n",
              "      \n",
              "  <style>\n",
              "    .colab-df-container {\n",
              "      display:flex;\n",
              "      flex-wrap:wrap;\n",
              "      gap: 12px;\n",
              "    }\n",
              "\n",
              "    .colab-df-convert {\n",
              "      background-color: #E8F0FE;\n",
              "      border: none;\n",
              "      border-radius: 50%;\n",
              "      cursor: pointer;\n",
              "      display: none;\n",
              "      fill: #1967D2;\n",
              "      height: 32px;\n",
              "      padding: 0 0 0 0;\n",
              "      width: 32px;\n",
              "    }\n",
              "\n",
              "    .colab-df-convert:hover {\n",
              "      background-color: #E2EBFA;\n",
              "      box-shadow: 0px 1px 2px rgba(60, 64, 67, 0.3), 0px 1px 3px 1px rgba(60, 64, 67, 0.15);\n",
              "      fill: #174EA6;\n",
              "    }\n",
              "\n",
              "    [theme=dark] .colab-df-convert {\n",
              "      background-color: #3B4455;\n",
              "      fill: #D2E3FC;\n",
              "    }\n",
              "\n",
              "    [theme=dark] .colab-df-convert:hover {\n",
              "      background-color: #434B5C;\n",
              "      box-shadow: 0px 1px 3px 1px rgba(0, 0, 0, 0.15);\n",
              "      filter: drop-shadow(0px 1px 2px rgba(0, 0, 0, 0.3));\n",
              "      fill: #FFFFFF;\n",
              "    }\n",
              "  </style>\n",
              "\n",
              "      <script>\n",
              "        const buttonEl =\n",
              "          document.querySelector('#df-b2afbd60-e930-4f3c-ad1c-2f2ed54c3890 button.colab-df-convert');\n",
              "        buttonEl.style.display =\n",
              "          google.colab.kernel.accessAllowed ? 'block' : 'none';\n",
              "\n",
              "        async function convertToInteractive(key) {\n",
              "          const element = document.querySelector('#df-b2afbd60-e930-4f3c-ad1c-2f2ed54c3890');\n",
              "          const dataTable =\n",
              "            await google.colab.kernel.invokeFunction('convertToInteractive',\n",
              "                                                     [key], {});\n",
              "          if (!dataTable) return;\n",
              "\n",
              "          const docLinkHtml = 'Like what you see? Visit the ' +\n",
              "            '<a target=\"_blank\" href=https://colab.research.google.com/notebooks/data_table.ipynb>data table notebook</a>'\n",
              "            + ' to learn more about interactive tables.';\n",
              "          element.innerHTML = '';\n",
              "          dataTable['output_type'] = 'display_data';\n",
              "          await google.colab.output.renderOutput(dataTable, element);\n",
              "          const docLink = document.createElement('div');\n",
              "          docLink.innerHTML = docLinkHtml;\n",
              "          element.appendChild(docLink);\n",
              "        }\n",
              "      </script>\n",
              "    </div>\n",
              "  </div>\n",
              "  "
            ]
          },
          "metadata": {},
          "execution_count": 6
        }
      ],
      "source": [
        "# read data\n",
        "df = pd.read_csv(path + \"apis/tweet_data.csv\")\n",
        "\n",
        "# sample data\n",
        "df = df.sample(frac=1).reset_index(drop=True)\n",
        "\n",
        "# clean tweet text\n",
        "df['Text'] = df['Text'].apply(lambda x: x.lower())  # transform text to lowercase\n",
        "df['Text'] = df['Text'].apply(lambda x: re.sub('[^a-zA-z0-9\\s]', '', x))\n",
        "print(df.shape)\n",
        "df.head(10)"
      ]
    },
    {
      "cell_type": "code",
      "execution_count": null,
      "id": "414cd237",
      "metadata": {
        "colab": {
          "base_uri": "https://localhost:8080/",
          "height": 265
        },
        "id": "414cd237",
        "outputId": "7ae2ed46-5a74-4458-d5f7-0d8aa7e1a43f"
      },
      "outputs": [
        {
          "output_type": "display_data",
          "data": {
            "text/plain": [
              "<Figure size 432x288 with 1 Axes>"
            ],
            "image/png": "[encoded data removed]"
          },
          "metadata": {
            "needs_background": "light"
          }
        }
      ],
      "source": [
        "df['Sentiment'].value_counts().sort_index().plot.bar()\n",
        "plt.savefig(path + \"images/single_count.png\")"
      ]
    },
    {
      "cell_type": "code",
      "execution_count": null,
      "id": "5acb25ca",
      "metadata": {
        "colab": {
          "base_uri": "https://localhost:8080/",
          "height": 265
        },
        "id": "5acb25ca",
        "outputId": "9e3fd26f-6e6a-4431-b8b4-b61b458b1a86"
      },
      "outputs": [
        {
          "output_type": "display_data",
          "data": {
            "text/plain": [
              "<Figure size 432x288 with 1 Axes>"
            ],
            "image/png": "[encoded data removed]"
          },
          "metadata": {
            "needs_background": "light"
          }
        }
      ],
      "source": [
        "df['Text'].str.len().plot.hist()\n",
        "plt.savefig(path + \"images/tweet_len.png\")"
      ]
    },
    {
      "cell_type": "code",
      "execution_count": null,
      "id": "c4d9b3d8",
      "metadata": {
        "colab": {
          "base_uri": "https://localhost:8080/"
        },
        "id": "c4d9b3d8",
        "outputId": "afd3b1c7-adb2-4ed9-e051-7e06f15635e8"
      },
      "outputs": [
        {
          "output_type": "stream",
          "name": "stdout",
          "text": [
            "X tokenized data =  [[   0    0    0    0    0    0    0    0    0    0    0    0    0    0\n",
            "     0    0    0    0    0    0    0    0    0    0    0    0 4809  144\n",
            "    33 3241 4810]\n",
            " [   0    0    0    0    0    0    0    0    0    0    0    0    0    0\n",
            "     0    0    0    0    0    0 2064  130   27 4811  432    7   35   31\n",
            "  1778  142 4812]\n",
            " [   0    0    0    0    0    0    0    0    0    0    0 4813 1779  238\n",
            "   111   15 1011  146   41  271  296 2065  207   27   15 1012  825    7\n",
            "  2066   35 4814]\n",
            " [   0    0    0    0    0    0    0    0    0    0    0    0    0    0\n",
            "     0    0    0    0    0    0    0    0    0    0  684  147  263    1\n",
            "  2528 4815  422]\n",
            " [   0    0    0    0    0    0    0    0    0    0    0    0    0    0\n",
            "  4816   71 4817  388   49 4818   19  272  433  246    6 4819 4820 4821\n",
            "  4822 4823 4824]]\n"
          ]
        }
      ],
      "source": [
        "# X as tokenize data\n",
        "tokenizer = Tokenizer(num_words=5000)\n",
        "tokenizer.fit_on_texts(df['Text'].values)\n",
        "X = tokenizer.texts_to_sequences(df['Text'].values)\n",
        "X = pad_sequences(X)\n",
        "print(\"X tokenized data = \", X[:5])"
      ]
    },
    {
      "cell_type": "code",
      "execution_count": null,
      "id": "ab84948c",
      "metadata": {
        "scrolled": true,
        "colab": {
          "base_uri": "https://localhost:8080/"
        },
        "id": "ab84948c",
        "outputId": "83d69147-f6fc-4b73-d12c-9bd5bc9c765e"
      },
      "outputs": [
        {
          "output_type": "stream",
          "name": "stdout",
          "text": [
            "1 [0 1]\n",
            "1 [0 1]\n",
            "1 [0 1]\n",
            "1 [0 1]\n",
            "1 [0 1]\n"
          ]
        },
        {
          "output_type": "execute_result",
          "data": {
            "text/plain": [
              "[None, None, None, None, None]"
            ]
          },
          "metadata": {},
          "execution_count": 10
        }
      ],
      "source": [
        "# Y as buckets of Sentiment column\n",
        "y = pd.get_dummies(df['Sentiment']).values\n",
        "[print(df['Sentiment'][i], y[i]) for i in range(0, 5)]"
      ]
    },
    {
      "cell_type": "code",
      "execution_count": null,
      "id": "d5a9a67c",
      "metadata": {
        "colab": {
          "base_uri": "https://localhost:8080/"
        },
        "id": "d5a9a67c",
        "outputId": "21cd718d-65e4-4302-c341-a0b136912fc0"
      },
      "outputs": [
        {
          "output_type": "stream",
          "name": "stderr",
          "text": [
            "WARNING:tensorflow:Layer gru will not use cuDNN kernels since it doesn't meet the criteria. It will use a generic GPU kernel as fallback when running on GPU.\n",
            "WARNING:tensorflow:Layer gru_1 will not use cuDNN kernels since it doesn't meet the criteria. It will use a generic GPU kernel as fallback when running on GPU.\n"
          ]
        }
      ],
      "source": [
        "# lstm create model\n",
        "model = Sequential()\n",
        "model.add(Embedding(5000, 256, input_length=X.shape[1]))\n",
        "model.add(Dropout(0.3))\n",
        "model.add(GRU(256, return_sequences=True, dropout=0.3, recurrent_dropout=0.2))\n",
        "model.add(GRU(256, dropout=0.3, recurrent_dropout=0.2))\n",
        "model.add(Dense(2, activation='softmax'))"
      ]
    },
    {
      "cell_type": "code",
      "execution_count": null,
      "id": "cd85a661",
      "metadata": {
        "colab": {
          "base_uri": "https://localhost:8080/"
        },
        "id": "cd85a661",
        "outputId": "b7b61843-d826-4175-d276-842538779984"
      },
      "outputs": [
        {
          "output_type": "stream",
          "name": "stdout",
          "text": [
            "Model: \"sequential\"\n",
            "_________________________________________________________________\n",
            " Layer (type)                Output Shape              Param #   \n",
            "=================================================================\n",
            " embedding (Embedding)       (None, 31, 256)           1280000   \n",
            "                                                                 \n",
            " dropout (Dropout)           (None, 31, 256)           0         \n",
            "                                                                 \n",
            " gru (GRU)                   (None, 31, 256)           394752    \n",
            "                                                                 \n",
            " gru_1 (GRU)                 (None, 256)               394752    \n",
            "                                                                 \n",
            " dense (Dense)               (None, 2)                 514       \n",
            "                                                                 \n",
            "=================================================================\n",
            "Total params: 2,070,018\n",
            "Trainable params: 2,070,018\n",
            "Non-trainable params: 0\n",
            "_________________________________________________________________\n"
          ]
        }
      ],
      "source": [
        "model.compile(loss='categorical_crossentropy', optimizer='adam', metrics=['accuracy'])\n",
        "model.summary()"
      ]
    },
    {
      "cell_type": "code",
      "execution_count": null,
      "id": "4fd3cd2e",
      "metadata": {
        "id": "4fd3cd2e"
      },
      "outputs": [],
      "source": [
        "X_train, X_test, y_train, y_test = train_test_split(X, y, test_size=0.2, random_state=0)"
      ]
    },
    {
      "cell_type": "code",
      "execution_count": null,
      "id": "efbcccb6",
      "metadata": {
        "colab": {
          "base_uri": "https://localhost:8080/"
        },
        "id": "efbcccb6",
        "outputId": "eeb0c691-9d77-480d-a2ad-e13853752d8f"
      },
      "outputs": [
        {
          "output_type": "stream",
          "name": "stdout",
          "text": [
            "Epoch 1/8\n",
            "145/145 - 41s - loss: 0.5826 - accuracy: 0.6952 - 41s/epoch - 281ms/step\n",
            "Epoch 2/8\n",
            "145/145 - 33s - loss: 0.3837 - accuracy: 0.8245 - 33s/epoch - 228ms/step\n",
            "Epoch 3/8\n",
            "145/145 - 33s - loss: 0.2250 - accuracy: 0.9119 - 33s/epoch - 231ms/step\n",
            "Epoch 4/8\n",
            "145/145 - 33s - loss: 0.1347 - accuracy: 0.9460 - 33s/epoch - 229ms/step\n",
            "Epoch 5/8\n",
            "145/145 - 34s - loss: 0.0788 - accuracy: 0.9685 - 34s/epoch - 232ms/step\n",
            "Epoch 6/8\n",
            "145/145 - 34s - loss: 0.0573 - accuracy: 0.9791 - 34s/epoch - 234ms/step\n",
            "Epoch 7/8\n",
            "145/145 - 33s - loss: 0.0380 - accuracy: 0.9855 - 33s/epoch - 228ms/step\n",
            "Epoch 8/8\n",
            "145/145 - 33s - loss: 0.0310 - accuracy: 0.9914 - 33s/epoch - 231ms/step\n"
          ]
        }
      ],
      "source": [
        "batch_size = 32\n",
        "epochs = 8\n",
        "\n",
        "history = model.fit(X_train, y_train, epochs=epochs, batch_size=batch_size, verbose=2)"
      ]
    },
    {
      "cell_type": "code",
      "execution_count": null,
      "id": "2c989183",
      "metadata": {
        "id": "2c989183"
      },
      "outputs": [],
      "source": [
        "predictions = model.predict(X_test)"
      ]
    },
    {
      "cell_type": "code",
      "execution_count": null,
      "id": "db9401f0",
      "metadata": {
        "colab": {
          "base_uri": "https://localhost:8080/"
        },
        "id": "db9401f0",
        "outputId": "3bb8d0d0-3dd6-47ff-ee5b-9b316bfa7b18"
      },
      "outputs": [
        {
          "output_type": "stream",
          "name": "stdout",
          "text": [
            "Positive predictions: 822\n",
            "Negative predictions: 337\n",
            "Real neutral: 749\n",
            "Real negative: 410\n"
          ]
        }
      ],
      "source": [
        "pos_count, neg_count = 0, 0\n",
        "real_pos, real_neg = 0, 0\n",
        "for i, prediction in enumerate(predictions):\n",
        "    if np.argmax(prediction)==1:\n",
        "        pos_count += 1\n",
        "    else:\n",
        "        neg_count += 1\n",
        "    if np.argmax(y_test[i])==1:    \n",
        "        real_pos += 1\n",
        "    else:\n",
        "        real_neg +=1\n",
        "\n",
        "print('Positive predictions:', pos_count)\n",
        "print('Negative predictions:', neg_count)\n",
        "\n",
        "print('Real neutral:', real_pos)\n",
        "print('Real negative:', real_neg)"
      ]
    },
    {
      "cell_type": "code",
      "execution_count": null,
      "id": "0647b7e5",
      "metadata": {
        "id": "0647b7e5"
      },
      "outputs": [],
      "source": [
        "import matplotlib.pyplot as plt"
      ]
    },
    {
      "cell_type": "code",
      "execution_count": null,
      "id": "245f8ffe",
      "metadata": {
        "colab": {
          "base_uri": "https://localhost:8080/"
        },
        "id": "245f8ffe",
        "outputId": "98af54f9-1e3f-403b-92c1-6feeb3c12358"
      },
      "outputs": [
        {
          "output_type": "stream",
          "name": "stdout",
          "text": [
            "[0.5826148390769958, 0.38365739583969116, 0.22496502101421356, 0.13471877574920654, 0.07884007692337036, 0.05730186030268669, 0.03802844509482384, 0.03104456700384617]\n"
          ]
        }
      ],
      "source": [
        "print(history.history['loss'], )\n",
        "predictions = [pos_count, neg_count]\n",
        "real = [real_pos, real_neg]\n",
        "labels = ['Positive', 'Negative']"
      ]
    },
    {
      "cell_type": "code",
      "execution_count": null,
      "id": "0ce766c4",
      "metadata": {
        "colab": {
          "base_uri": "https://localhost:8080/",
          "height": 499
        },
        "id": "0ce766c4",
        "outputId": "b442e384-3716-4bc8-a02e-60741b5372d9"
      },
      "outputs": [
        {
          "output_type": "error",
          "ename": "AttributeError",
          "evalue": "ignored",
          "traceback": [
            "\u001b[0;31m---------------------------------------------------------------------------\u001b[0m",
            "\u001b[0;31mAttributeError\u001b[0m                            Traceback (most recent call last)",
            "\u001b[0;32m<ipython-input-22-be6d8c455936>\u001b[0m in \u001b[0;36m<module>\u001b[0;34m\u001b[0m\n\u001b[1;32m     12\u001b[0m \u001b[0max\u001b[0m\u001b[0;34m.\u001b[0m\u001b[0mlegend\u001b[0m\u001b[0;34m(\u001b[0m\u001b[0;34m)\u001b[0m\u001b[0;34m\u001b[0m\u001b[0;34m\u001b[0m\u001b[0m\n\u001b[1;32m     13\u001b[0m \u001b[0;34m\u001b[0m\u001b[0m\n\u001b[0;32m---> 14\u001b[0;31m \u001b[0max\u001b[0m\u001b[0;34m.\u001b[0m\u001b[0mbar_label\u001b[0m\u001b[0;34m(\u001b[0m\u001b[0mrects1\u001b[0m\u001b[0;34m,\u001b[0m \u001b[0mpadding\u001b[0m\u001b[0;34m=\u001b[0m\u001b[0;36m3\u001b[0m\u001b[0;34m)\u001b[0m\u001b[0;34m\u001b[0m\u001b[0;34m\u001b[0m\u001b[0m\n\u001b[0m\u001b[1;32m     15\u001b[0m \u001b[0max\u001b[0m\u001b[0;34m.\u001b[0m\u001b[0mbar_label\u001b[0m\u001b[0;34m(\u001b[0m\u001b[0mrects2\u001b[0m\u001b[0;34m,\u001b[0m \u001b[0mpadding\u001b[0m\u001b[0;34m=\u001b[0m\u001b[0;36m3\u001b[0m\u001b[0;34m)\u001b[0m\u001b[0;34m\u001b[0m\u001b[0;34m\u001b[0m\u001b[0m\n\u001b[1;32m     16\u001b[0m \u001b[0;34m\u001b[0m\u001b[0m\n",
            "\u001b[0;31mAttributeError\u001b[0m: 'AxesSubplot' object has no attribute 'bar_label'"
          ]
        },
        {
          "output_type": "display_data",
          "data": {
            "text/plain": [
              "<Figure size 432x288 with 1 Axes>"
            ],
            "image/png": "[encoded data removed]"
          },
          "metadata": {
            "needs_background": "light"
          }
        }
      ],
      "source": [
        "x = np.arange(len(labels))\n",
        "width = 0.35 \n",
        "\n",
        "fig, ax = plt.subplots()\n",
        "rects1 = ax.bar(x - width/2, real, width, label='Real')\n",
        "rects2 = ax.bar(x + width/2, predictions, width, label='Predictions')\n",
        "\n",
        "ax.set_ylabel('Scores')\n",
        "ax.set_title('Count of Classifications')\n",
        "ax.set_xticks(x)\n",
        "ax.set_xticklabels(labels)\n",
        "ax.legend()\n",
        "\n",
        "ax.bar_label(rects1, padding=3)\n",
        "ax.bar_label(rects2, padding=3)\n",
        "\n",
        "fig.tight_layout()\n",
        "plt.savefig(path + \"images/predictions_gru.png\")\n",
        "plt.show()"
      ]
    },
    {
      "cell_type": "code",
      "execution_count": null,
      "id": "ba886246",
      "metadata": {
        "colab": {
          "base_uri": "https://localhost:8080/",
          "height": 295
        },
        "id": "ba886246",
        "outputId": "a5839961-1250-4dd1-81e7-7dcd9d49bc52"
      },
      "outputs": [
        {
          "output_type": "display_data",
          "data": {
            "text/plain": [
              "<Figure size 432x288 with 1 Axes>"
            ],
            "image/png": "[encoded data removed]"
          },
          "metadata": {
            "needs_background": "light"
          }
        }
      ],
      "source": [
        "fig, ax = plt.subplots()\n",
        "loss = history.history['loss']\n",
        "epoch = [item for item in range(1,9)]\n",
        "accuracy = history.history['accuracy']\n",
        "ax.plot(epoch, loss, label = \"Loss\")\n",
        "ax.plot(epoch, accuracy, label = \"Accuracy\")\n",
        "\n",
        "ax.set_xlabel('Epoch')\n",
        "ax.set_title('Accuracy and Loss per epoch')\n",
        "plt.legend()\n",
        "plt.savefig(path + \"images/epoch_gru.png\")\n",
        "plt.show()"
      ]
    }
  ],
  "metadata": {
    "kernelspec": {
      "display_name": "Python 3",
      "language": "python",
      "name": "python3"
    },
    "language_info": {
      "codemirror_mode": {
        "name": "ipython",
        "version": 3
      },
      "file_extension": ".py",
      "mimetype": "text/x-python",
      "name": "python",
      "nbconvert_exporter": "python",
      "pygments_lexer": "ipython3",
      "version": "3.8.5"
    },
    "colab": {
      "provenance": [],
      "include_colab_link": true
    },
    "accelerator": "GPU"
  },
  "nbformat": 4,
  "nbformat_minor": 5
}